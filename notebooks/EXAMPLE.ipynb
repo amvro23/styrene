{
 "cells": [
  {
   "cell_type": "code",
   "execution_count": 1,
   "metadata": {},
   "outputs": [],
   "source": [
    "import numpy as np\n",
    "import matplotlib.pyplot as plt\n",
    "from styrene.reactor import MultiBed"
   ]
  },
  {
   "cell_type": "markdown",
   "metadata": {},
   "source": [
    "Test radial flow"
   ]
  },
  {
   "cell_type": "code",
   "execution_count": 2,
   "metadata": {},
   "outputs": [],
   "source": [
    "IVP_RTOL = 1e-6\n",
    "\n",
    "test_reac = MultiBed()\n",
    "test_reac.add_radial_bed(72950)\n",
    "test_reac.set_inlet(T=886, P=1.25)\n",
    "test_reac.add_radial_bed(82020)\n",
    "test_reac.add_radial_bed(78330)\n",
    "test_reac.add_resets(2, T=898.2)\n",
    "test_reac.add_resets(3, T=897.6)"
   ]
  },
  {
   "cell_type": "code",
   "execution_count": 3,
   "metadata": {},
   "outputs": [
    {
     "name": "stdout",
     "output_type": "stream",
     "text": [
      "{'Feb': 99.91423440731926, 'Fst': 495.2086388631281, 'Fh2': 381.30087158609973, 'Fbz': 12.47035945252421, 'Fme': 106.80376727702834, 'Fto': 111.77176727702833, 'Fee': 12.177359452524211, 'Fh2o': 7777.0, 'T': 892.4413922783771, 'P': 1.1664090564674678}\n",
      "CPU times: total: 156 ms\n",
      "Wall time: 158 ms\n"
     ]
    }
   ],
   "source": [
    "%%time\n",
    "test_reac.solve()\n",
    "print(test_reac.outlet)"
   ]
  },
  {
   "cell_type": "code",
   "execution_count": 4,
   "metadata": {},
   "outputs": [],
   "source": [
    "profiles = test_reac.get_dataframe()"
   ]
  },
  {
   "cell_type": "code",
   "execution_count": 5,
   "metadata": {},
   "outputs": [
    {
     "data": {
      "text/html": [
       "<div>\n",
       "<style scoped>\n",
       "    .dataframe tbody tr th:only-of-type {\n",
       "        vertical-align: middle;\n",
       "    }\n",
       "\n",
       "    .dataframe tbody tr th {\n",
       "        vertical-align: top;\n",
       "    }\n",
       "\n",
       "    .dataframe thead th {\n",
       "        text-align: right;\n",
       "    }\n",
       "</style>\n",
       "<table border=\"1\" class=\"dataframe\">\n",
       "  <thead>\n",
       "    <tr style=\"text-align: right;\">\n",
       "      <th></th>\n",
       "      <th>Feb</th>\n",
       "      <th>Fst</th>\n",
       "      <th>Fh2</th>\n",
       "      <th>Fbz</th>\n",
       "      <th>Fme</th>\n",
       "      <th>Fto</th>\n",
       "      <th>Fee</th>\n",
       "      <th>Fh2o</th>\n",
       "      <th>T</th>\n",
       "      <th>P</th>\n",
       "    </tr>\n",
       "    <tr>\n",
       "      <th>W</th>\n",
       "      <th></th>\n",
       "      <th></th>\n",
       "      <th></th>\n",
       "      <th></th>\n",
       "      <th></th>\n",
       "      <th></th>\n",
       "      <th></th>\n",
       "      <th></th>\n",
       "      <th></th>\n",
       "      <th></th>\n",
       "    </tr>\n",
       "  </thead>\n",
       "  <tbody>\n",
       "    <tr>\n",
       "      <th>0.000000</th>\n",
       "      <td>707.000000</td>\n",
       "      <td>7.104000</td>\n",
       "      <td>0.000000</td>\n",
       "      <td>0.293000</td>\n",
       "      <td>0.000000e+00</td>\n",
       "      <td>4.968000</td>\n",
       "      <td>0.000000</td>\n",
       "      <td>7777.0</td>\n",
       "      <td>886.000000</td>\n",
       "      <td>1.250000</td>\n",
       "    </tr>\n",
       "    <tr>\n",
       "      <th>0.057385</th>\n",
       "      <td>706.997056</td>\n",
       "      <td>7.106894</td>\n",
       "      <td>0.002893</td>\n",
       "      <td>0.293050</td>\n",
       "      <td>2.415409e-07</td>\n",
       "      <td>4.968000</td>\n",
       "      <td>0.000050</td>\n",
       "      <td>7777.0</td>\n",
       "      <td>885.999298</td>\n",
       "      <td>1.250000</td>\n",
       "    </tr>\n",
       "    <tr>\n",
       "      <th>0.631235</th>\n",
       "      <td>706.967620</td>\n",
       "      <td>7.135825</td>\n",
       "      <td>0.031822</td>\n",
       "      <td>0.293553</td>\n",
       "      <td>2.674064e-06</td>\n",
       "      <td>4.968003</td>\n",
       "      <td>0.000553</td>\n",
       "      <td>7777.0</td>\n",
       "      <td>885.992279</td>\n",
       "      <td>1.250000</td>\n",
       "    </tr>\n",
       "    <tr>\n",
       "      <th>6.369735</th>\n",
       "      <td>706.673851</td>\n",
       "      <td>7.424554</td>\n",
       "      <td>0.320525</td>\n",
       "      <td>0.298567</td>\n",
       "      <td>2.870422e-05</td>\n",
       "      <td>4.968029</td>\n",
       "      <td>0.005567</td>\n",
       "      <td>7777.0</td>\n",
       "      <td>885.922225</td>\n",
       "      <td>1.249996</td>\n",
       "    </tr>\n",
       "    <tr>\n",
       "      <th>63.754732</th>\n",
       "      <td>703.793890</td>\n",
       "      <td>10.255271</td>\n",
       "      <td>3.150818</td>\n",
       "      <td>0.347386</td>\n",
       "      <td>4.532764e-04</td>\n",
       "      <td>4.968453</td>\n",
       "      <td>0.054386</td>\n",
       "      <td>7777.0</td>\n",
       "      <td>885.235416</td>\n",
       "      <td>1.249963</td>\n",
       "    </tr>\n",
       "  </tbody>\n",
       "</table>\n",
       "</div>"
      ],
      "text/plain": [
       "                  Feb        Fst       Fh2       Fbz           Fme       Fto  \\\n",
       "W                                                                              \n",
       "0.000000   707.000000   7.104000  0.000000  0.293000  0.000000e+00  4.968000   \n",
       "0.057385   706.997056   7.106894  0.002893  0.293050  2.415409e-07  4.968000   \n",
       "0.631235   706.967620   7.135825  0.031822  0.293553  2.674064e-06  4.968003   \n",
       "6.369735   706.673851   7.424554  0.320525  0.298567  2.870422e-05  4.968029   \n",
       "63.754732  703.793890  10.255271  3.150818  0.347386  4.532764e-04  4.968453   \n",
       "\n",
       "                Fee    Fh2o           T         P  \n",
       "W                                                  \n",
       "0.000000   0.000000  7777.0  886.000000  1.250000  \n",
       "0.057385   0.000050  7777.0  885.999298  1.250000  \n",
       "0.631235   0.000553  7777.0  885.992279  1.250000  \n",
       "6.369735   0.005567  7777.0  885.922225  1.249996  \n",
       "63.754732  0.054386  7777.0  885.235416  1.249963  "
      ]
     },
     "execution_count": 5,
     "metadata": {},
     "output_type": "execute_result"
    }
   ],
   "source": [
    "profiles.head(5)"
   ]
  },
  {
   "cell_type": "code",
   "execution_count": 7,
   "metadata": {},
   "outputs": [
    {
     "data": {
      "image/png": "[encoded data removed]",
      "text/plain": [
       "<Figure size 700x400 with 1 Axes>"
      ]
     },
     "metadata": {
      "needs_background": "light"
     },
     "output_type": "display_data"
    }
   ],
   "source": [
    "fig, ax = plt.subplots(figsize=[7, 4], dpi=100, sharex=True)\n",
    "\n",
    "ax.plot(profiles.index * 1e-3, profiles[\"Fst\"], color=\"darkgreen\", label=\"Styrene\")\n",
    "ax.plot(profiles.index * 1e-3, profiles[\"Feb\"], color=\"black\", label=\"Ethylbenzene\")\n",
    "\n",
    "ax.set_ylabel(\"$F$ [kmol/h]\")\n",
    "ax.set_xlabel(\"$W$ [kg x 10³]\")\n",
    "\n",
    "ax.legend()\n",
    "\n",
    "fig.tight_layout()\n",
    "plt.savefig(\"../data/composition_profiles_example.png\")\n",
    "plt.show()"
   ]
  },
  {
   "cell_type": "code",
   "execution_count": null,
   "metadata": {},
   "outputs": [],
   "source": []
  }
 ],
 "metadata": {
  "interpreter": {
   "hash": "49186668dfa22f2d6d82541a7b9db65e3388e59c7c0cb505da0c560b5f23fe75"
  },
  "kernelspec": {
   "display_name": "Python 3.9.7 ('venv-styrene-test': venv)",
   "language": "python",
   "name": "python3"
  },
  "language_info": {
   "codemirror_mode": {
    "name": "ipython",
    "version": 3
   },
   "file_extension": ".py",
   "mimetype": "text/x-python",
   "name": "python",
   "nbconvert_exporter": "python",
   "pygments_lexer": "ipython3",
   "version": "3.9.7"
  },
  "orig_nbformat": 4
 },
 "nbformat": 4,
 "nbformat_minor": 2
}
