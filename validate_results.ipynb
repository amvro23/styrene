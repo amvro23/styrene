{
 "cells": [
  {
   "cell_type": "code",
   "execution_count": 1,
   "metadata": {},
   "outputs": [],
   "source": [
    "import numpy as np\n",
    "from styrene.reactor_class import MultiBed"
   ]
  },
  {
   "cell_type": "markdown",
   "metadata": {},
   "source": [
    "Test radial flow"
   ]
  },
  {
   "cell_type": "code",
   "execution_count": 5,
   "metadata": {},
   "outputs": [],
   "source": [
    "IVP_RTOL = 1e-6\n",
    "\n",
    "test_reac = MultiBed()\n",
    "test_reac.add_radial_bed(72950, Pmin=0.501, ivp_rtol=IVP_RTOL, terminal=True, heterogeneous=True, n_points=6)\n",
    "test_reac.set_inlet_plant(T=886, P=1.25)\n",
    "test_reac.add_radial_bed(82020, Pmin=0.50005, ivp_rtol=IVP_RTOL, terminal=True, heterogeneous=True, n_points=6)\n",
    "test_reac.add_radial_bed(78330, Pmin=0.50, ivp_rtol=IVP_RTOL, terminal=True, heterogeneous=True, n_points=6)\n",
    "test_reac.add_resets(2, T=898.2)\n",
    "test_reac.add_resets(3, T=897.6)"
   ]
  },
  {
   "cell_type": "code",
   "execution_count": 6,
   "metadata": {},
   "outputs": [
    {
     "name": "stdout",
     "output_type": "stream",
     "text": [
      "CPU times: total: 3.11 s\n",
      "Wall time: 3.49 s\n"
     ]
    },
    {
     "data": {
      "text/plain": [
       "{'Feb': 118.95487489213687,\n",
       " 'Fst': 476.33848026403,\n",
       " 'Fh2': 362.82248284233305,\n",
       " 'Fbz': 12.691647422136393,\n",
       " 'Fme': 106.41199742169691,\n",
       " 'Fto': 111.37999742169691,\n",
       " 'Fee': 12.398647422136394,\n",
       " 'Fh2o': 7777.0,\n",
       " 'T': 890.9604020431773,\n",
       " 'P': 1.1662097197905927}"
      ]
     },
     "execution_count": 6,
     "metadata": {},
     "output_type": "execute_result"
    }
   ],
   "source": [
    "%%time\n",
    "test_reac.solve()\n",
    "test_reac.outlet"
   ]
  },
  {
   "cell_type": "markdown",
   "metadata": {},
   "source": [
    "Expected results wall time ~4.3s:\n",
    "\n",
    "{'Feb': 118.96731510800394,\n",
    " 'Fst': 476.36287295843425,\n",
    " 'Fh2': 362.88178005606306,\n",
    " 'Fbz': 12.689719031190961,\n",
    " 'Fme': 106.37709290237102,\n",
    " 'Fto': 111.34509290237104,\n",
    " 'Fee': 12.396719031190962,\n",
    " 'Fh2o': 7777.0,\n",
    " 'T': 890.9534984935226,\n",
    " 'P': 1.166209923091648}"
   ]
  },
  {
   "cell_type": "code",
   "execution_count": 4,
   "metadata": {},
   "outputs": [],
   "source": [
    "IVP_RTOL = 1e-6\n",
    "\n",
    "test_reac = MultiBed()\n",
    "test_reac.add_axial_bed(72950, 2500, 1422, 0.4, 0.0055, 3., 3.5, Pmin=0.501, ivp_rtol=IVP_RTOL, terminal=True, heterogeneous=True, n_points=6)\n",
    "test_reac.set_inlet_plant(707, 7.104, 0, 0.293, 0, 4.968, 0, 707*11, 886, 1.35)\n",
    "test_reac.add_axial_bed(82020, 2500, 1422, 0.4, 0.0055, 3., 3.5, Pmin=0.50005, ivp_rtol=IVP_RTOL, terminal=True, heterogeneous=True, n_points=6)\n",
    "test_reac.add_axial_bed(78330, 2500, 1422, 0.4, 0.0055, 3., 3.5, Pmin=0.50, ivp_rtol=IVP_RTOL, terminal=True, heterogeneous=True, n_points=6)\n",
    "test_reac.add_resets(2, T=898.2)\n",
    "test_reac.add_resets(3, T=897.6)"
   ]
  },
  {
   "cell_type": "code",
   "execution_count": 5,
   "metadata": {},
   "outputs": [
    {
     "name": "stdout",
     "output_type": "stream",
     "text": [
      "CPU times: total: 2.06 s\n",
      "Wall time: 2.15 s\n"
     ]
    },
    {
     "data": {
      "text/plain": [
       "{'Feb': 106.87102858202954,\n",
       " 'Fst': 511.872320587938,\n",
       " 'Fh2': 420.776962317583,\n",
       " 'Fbz': 11.662292559677754,\n",
       " 'Fme': 83.99135827035487,\n",
       " 'Fto': 88.95935827035485,\n",
       " 'Fee': 11.369292559677753,\n",
       " 'Fh2o': 7777.0,\n",
       " 'T': 882.6142536926556,\n",
       " 'P': 0.4805520882201064}"
      ]
     },
     "execution_count": 5,
     "metadata": {},
     "output_type": "execute_result"
    }
   ],
   "source": [
    "%%time\n",
    "test_reac.solve(method=\"RK45\")\n",
    "test_reac.outlet"
   ]
  },
  {
   "cell_type": "markdown",
   "metadata": {},
   "source": [
    "Expected results wall time ~4.4s:\n",
    "\n",
    "{'Feb': 106.85456991144426,\n",
    " 'Fst': 511.89724320908596,\n",
    " 'Fh2': 420.81013202747835,\n",
    " 'Fbz': 11.66207569786204,\n",
    " 'Fme': 83.98311118160755,\n",
    " 'Fto': 88.95111118160754,\n",
    " 'Fee': 11.369075697862039,\n",
    " 'Fh2o': 7777.0,\n",
    " 'T': 882.6096456118516,\n",
    " 'P': 0.4805544340617423}"
   ]
  },
  {
   "cell_type": "code",
   "execution_count": null,
   "metadata": {},
   "outputs": [],
   "source": []
  }
 ],
 "metadata": {
  "interpreter": {
   "hash": "49186668dfa22f2d6d82541a7b9db65e3388e59c7c0cb505da0c560b5f23fe75"
  },
  "kernelspec": {
   "display_name": "Python 3.9.7 ('venv-styrene-test': venv)",
   "language": "python",
   "name": "python3"
  },
  "language_info": {
   "codemirror_mode": {
    "name": "ipython",
    "version": 3
   },
   "file_extension": ".py",
   "mimetype": "text/x-python",
   "name": "python",
   "nbconvert_exporter": "python",
   "pygments_lexer": "ipython3",
   "version": "3.9.7"
  },
  "orig_nbformat": 4
 },
 "nbformat": 4,
 "nbformat_minor": 2
}
